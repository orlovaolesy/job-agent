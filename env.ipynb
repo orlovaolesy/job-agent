GMAIL_USER=your@gmail.com
GMAIL_APP_PASSWORD=your_app_password
REED_API_KEY=your_reed_api_key
TO_EMAIL=receiver@gmail.com

