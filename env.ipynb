{
 "cells": [
  {
   "cell_type": "code",
   "execution_count": 6,
   "id": "81074271-6a38-42d0-8dc1-6ce7683f35fd",
   "metadata": {},
   "outputs": [
    {
     "name": "stdout",
     "output_type": "stream",
     "text": [
      "✅ Файл .env создан!\n"
     ]
    }
   ],
   "source": [
    "with open(\".env\", \"w\") as f:\n",
    "    f.write(\"\"\"GMAIL_USER=olesiaodyntsova.job@gmail.com\n",
    "GMAIL_APP_PASSWORD=ibrfxofklhxcncvz\n",
    "REED_API_KEY=your_reed_api_key\n",
    "JOOBLE_API_KEY=your_jooble_api_key\n",
    "TO_EMAIL=olesiaodyntsova.job@gmail.com\n",
    "\"\"\")\n",
    "print(\"✅ Файл .env создан!\")\n"
   ]
  },
  {
   "cell_type": "code",
   "execution_count": null,
   "id": "cf908cb5-d041-4285-846e-e6952958d84a",
   "metadata": {},
   "outputs": [],
   "source": []
  },
  {
   "cell_type": "code",
   "execution_count": null,
   "id": "062d3375-5aa1-4efa-8a0e-e3c3e0181889",
   "metadata": {},
   "outputs": [],
   "source": []
  }
 ],
 "metadata": {
  "kernelspec": {
   "display_name": "Python 3 (ipykernel)",
   "language": "python",
   "name": "python3"
  },
  "language_info": {
   "codemirror_mode": {
    "name": "ipython",
    "version": 3
   },
   "file_extension": ".py",
   "mimetype": "text/x-python",
   "name": "python",
   "nbconvert_exporter": "python",
   "pygments_lexer": "ipython3",
   "version": "3.12.4"
  }
 },
 "nbformat": 4,
 "nbformat_minor": 5
}
