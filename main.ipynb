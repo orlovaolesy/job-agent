{
 "cells": [
  {
   "cell_type": "code",
   "execution_count": 1,
   "id": "c691d89e-93fc-4b44-819a-62d0c2f0ce93",
   "metadata": {},
   "outputs": [
    {
     "name": "stdout",
     "output_type": "stream",
     "text": [
      "Ищем по: data analyst\n",
      "Ищем по: python\n",
      "Ищем по: sql\n",
      "[Arbeitnow] Ошибка: 429 Client Error: Too Many Requests for url: https://www.arbeitnow.com/api/job-board-api\n",
      "Ищем по: power bi\n",
      "[Arbeitnow] Ошибка: 429 Client Error: Too Many Requests for url: https://arbeitnow.com/api/job-board-api\n",
      "Ищем по: remote\n",
      "[Arbeitnow] Ошибка: 429 Client Error: Too Many Requests for url: https://arbeitnow.com/api/job-board-api\n",
      "Ищем по: data entry\n",
      "[Arbeitnow] Ошибка: 429 Client Error: Too Many Requests for url: https://arbeitnow.com/api/job-board-api\n",
      "Ищем по: analyst\n",
      "[Arbeitnow] Ошибка: 429 Client Error: Too Many Requests for url: https://arbeitnow.com/api/job-board-api\n",
      "Ищем по: excel\n",
      "[Arbeitnow] Ошибка: 429 Client Error: Too Many Requests for url: https://arbeitnow.com/api/job-board-api\n",
      "Ищем по: tableau\n",
      "[Arbeitnow] Ошибка: 429 Client Error: Too Many Requests for url: https://arbeitnow.com/api/job-board-api\n",
      "Ищем по: analytical skill\n",
      "[Arbeitnow] Ошибка: 429 Client Error: Too Many Requests for url: https://arbeitnow.com/api/job-board-api\n",
      "Всего найдено: 1346\n"
     ]
    }
   ],
   "source": [
    "from dotenv import load_dotenv\n",
    "import os\n",
    "import json\n",
    "from sources.arbeitnow import fetch_arbeitnow\n",
    "from sources.remotive import fetch_remotive\n",
    "load_dotenv()\n",
    "\n",
    "from filter_jobs import dedupe_and_sort\n",
    "from mailer import send_jobs_email\n",
    "\n",
    "def load_keywords(path=\"keywords.json\"):\n",
    "    with open(path, \"r\", encoding=\"utf-8\") as f:\n",
    "        return json.load(f)\n",
    "\n",
    "def collect_jobs():\n",
    "    keywords = load_keywords()\n",
    "    all_jobs = []\n",
    "    for kw in keywords:\n",
    "        print(\"Ищем по:\", kw)\n",
    "        all_jobs.extend(fetch_arbeitnow(kw))\n",
    "        all_jobs.extend(fetch_remotive(kw))\n",
    "\n",
    "    return dedupe_and_sort(all_jobs)\n",
    "\n",
    "if __name__ == \"__main__\":\n",
    "    jobs = collect_jobs()\n",
    "    print(\"Всего найдено:\", len(jobs))\n",
    "    send_jobs_email(jobs, os.getenv(\"TO_EMAIL\"))\n"
   ]
  },
  {
   "cell_type": "code",
   "execution_count": 3,
   "id": "aa7ada49-b6d2-4c38-92fb-19a1f3a54a60",
   "metadata": {},
   "outputs": [
    {
     "name": "stdout",
     "output_type": "stream",
     "text": [
      "GMAIL_USER: olesiaodyntsova.job@gmail.com\n",
      "GMAIL_APP_PASSWORD: ibrfxofklhxcncvz\n"
     ]
    }
   ],
   "source": [
    "import os\n",
    "print(\"GMAIL_USER:\", os.getenv(\"GMAIL_USER\"))\n",
    "print(\"GMAIL_APP_PASSWORD:\", os.getenv(\"GMAIL_APP_PASSWORD\"))\n"
   ]
  },
  {
   "cell_type": "code",
   "execution_count": null,
   "id": "6952d7ab-c360-42bc-86d2-bd69b93e21ef",
   "metadata": {},
   "outputs": [],
   "source": []
  },
  {
   "cell_type": "code",
   "execution_count": null,
   "id": "cdd4246d-b498-4d4b-972a-54819199bc9e",
   "metadata": {},
   "outputs": [],
   "source": []
  }
 ],
 "metadata": {
  "kernelspec": {
   "display_name": "Python 3 (ipykernel)",
   "language": "python",
   "name": "python3"
  },
  "language_info": {
   "codemirror_mode": {
    "name": "ipython",
    "version": 3
   },
   "file_extension": ".py",
   "mimetype": "text/x-python",
   "name": "python",
   "nbconvert_exporter": "python",
   "pygments_lexer": "ipython3",
   "version": "3.12.4"
  }
 },
 "nbformat": 4,
 "nbformat_minor": 5
}
